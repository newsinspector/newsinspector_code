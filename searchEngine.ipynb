{
  "nbformat": 4,
  "nbformat_minor": 0,
  "metadata": {
    "colab": {
      "name": "searchEngine.ipynb",
      "provenance": [],
      "collapsed_sections": [],
      "machine_shape": "hm"
    },
    "kernelspec": {
      "name": "python3",
      "display_name": "Python 3"
    },
    "language_info": {
      "name": "python"
    },
    "accelerator": "GPU"
  },
  "cells": [
    {
      "cell_type": "code",
      "source": [
        "from psutil import virtual_memory\n",
        "ram_gb = virtual_memory().total / 1e9\n",
        "print('Your runtime has {:.1f} gigabytes of available RAM\\n'.format(ram_gb))\n",
        "\n",
        "if ram_gb < 20:\n",
        "  print('Not using a high-RAM runtime')\n",
        "else:\n",
        "  print('You are using a high-RAM runtime!')"
      ],
      "metadata": {
        "colab": {
          "base_uri": "https://localhost:8080/"
        },
        "id": "YcmZe-k1mzry",
        "outputId": "5882970c-8d50-4c42-d073-15d4cb3e10da"
      },
      "execution_count": null,
      "outputs": [
        {
          "output_type": "stream",
          "name": "stdout",
          "text": [
            "Your runtime has 54.8 gigabytes of available RAM\n",
            "\n",
            "You are using a high-RAM runtime!\n"
          ]
        }
      ]
    },
    {
      "cell_type": "code",
      "execution_count": null,
      "metadata": {
        "id": "3fyfJkO8HgBF"
      },
      "outputs": [],
      "source": [
        "import pandas as pd\n",
        "import numpy as np\n",
        "import os \n",
        "import re\n",
        "import operator\n",
        "import pickle\n",
        "import nltk \n",
        "from nltk.tokenize import word_tokenize\n",
        "from nltk import pos_tag\n",
        "from nltk.corpus import stopwords\n",
        "from nltk.stem import WordNetLemmatizer\n",
        "from collections import defaultdict\n",
        "from nltk.corpus import wordnet as wn\n",
        "from sklearn.feature_extraction.text import TfidfVectorizer\n",
        "\n"
      ]
    },
    {
      "cell_type": "code",
      "source": [
        " nltk.download('punkt')"
      ],
      "metadata": {
        "colab": {
          "base_uri": "https://localhost:8080/"
        },
        "id": "DafIF3yomgEA",
        "outputId": "cde36dfd-2d51-45c4-b0fe-99a42c7db240"
      },
      "execution_count": null,
      "outputs": [
        {
          "output_type": "stream",
          "name": "stdout",
          "text": [
            "[nltk_data] Downloading package punkt to /root/nltk_data...\n",
            "[nltk_data]   Unzipping tokenizers/punkt.zip.\n"
          ]
        },
        {
          "output_type": "execute_result",
          "data": {
            "text/plain": [
              "True"
            ]
          },
          "metadata": {},
          "execution_count": 3
        }
      ]
    },
    {
      "cell_type": "code",
      "source": [
        "from google.colab import drive\n",
        "drive.mount('/content/drive')"
      ],
      "metadata": {
        "colab": {
          "base_uri": "https://localhost:8080/"
        },
        "id": "26CO0IfGH67R",
        "outputId": "7d5ef983-182d-4b3d-e0e2-1d45cd8d908c"
      },
      "execution_count": null,
      "outputs": [
        {
          "output_type": "stream",
          "name": "stdout",
          "text": [
            "Mounted at /content/drive\n"
          ]
        }
      ]
    },
    {
      "cell_type": "code",
      "source": [
        "path = \"/content/drive/MyDrive/IR/article.csv\"\n",
        "df = pd.read_csv(path)\n"
      ],
      "metadata": {
        "id": "bboxx2rBIMDX"
      },
      "execution_count": null,
      "outputs": []
    },
    {
      "cell_type": "code",
      "source": [
        "df.head()"
      ],
      "metadata": {
        "colab": {
          "base_uri": "https://localhost:8080/",
          "height": 354
        },
        "id": "R-ogVFg_IR8Q",
        "outputId": "368d3884-c235-4e10-96cd-e42b36c4e652"
      },
      "execution_count": null,
      "outputs": [
        {
          "output_type": "execute_result",
          "data": {
            "text/plain": [
              "   Unnamed: 0     id                                              title  \\\n",
              "0           0  17283  House Republicans Fret About Winning Their Hea...   \n",
              "1           1  17284  Rift Between Officers and Residents as Killing...   \n",
              "2           2  17285  Tyrus Wong, ‘Bambi’ Artist Thwarted by Racial ...   \n",
              "3           3  17286  Among Deaths in 2016, a Heavy Toll in Pop Musi...   \n",
              "4           4  17287  Kim Jong-un Says North Korea Is Preparing to T...   \n",
              "\n",
              "      publication                         author        date    year  month  \\\n",
              "0  New York Times                     Carl Hulse  2016-12-31  2016.0   12.0   \n",
              "1  New York Times  Benjamin Mueller and Al Baker  2017-06-19  2017.0    6.0   \n",
              "2  New York Times                   Margalit Fox  2017-01-06  2017.0    1.0   \n",
              "3  New York Times               William McDonald  2017-04-10  2017.0    4.0   \n",
              "4  New York Times                  Choe Sang-Hun  2017-01-02  2017.0    1.0   \n",
              "\n",
              "   url                                            content  \n",
              "0  NaN  WASHINGTON  —   Congressional Republicans have...  \n",
              "1  NaN  After the bullet shells get counted, the blood...  \n",
              "2  NaN  When Walt Disney’s “Bambi” opened in 1942, cri...  \n",
              "3  NaN  Death may be the great equalizer, but it isn’t...  \n",
              "4  NaN  SEOUL, South Korea  —   North Korea’s leader, ...  "
            ],
            "text/html": [
              "\n",
              "  <div id=\"df-10a2f5fa-b55a-4ebf-b7fd-e7052a94685f\">\n",
              "    <div class=\"colab-df-container\">\n",
              "      <div>\n",
              "<style scoped>\n",
              "    .dataframe tbody tr th:only-of-type {\n",
              "        vertical-align: middle;\n",
              "    }\n",
              "\n",
              "    .dataframe tbody tr th {\n",
              "        vertical-align: top;\n",
              "    }\n",
              "\n",
              "    .dataframe thead th {\n",
              "        text-align: right;\n",
              "    }\n",
              "</style>\n",
              "<table border=\"1\" class=\"dataframe\">\n",
              "  <thead>\n",
              "    <tr style=\"text-align: right;\">\n",
              "      <th></th>\n",
              "      <th>Unnamed: 0</th>\n",
              "      <th>id</th>\n",
              "      <th>title</th>\n",
              "      <th>publication</th>\n",
              "      <th>author</th>\n",
              "      <th>date</th>\n",
              "      <th>year</th>\n",
              "      <th>month</th>\n",
              "      <th>url</th>\n",
              "      <th>content</th>\n",
              "    </tr>\n",
              "  </thead>\n",
              "  <tbody>\n",
              "    <tr>\n",
              "      <th>0</th>\n",
              "      <td>0</td>\n",
              "      <td>17283</td>\n",
              "      <td>House Republicans Fret About Winning Their Hea...</td>\n",
              "      <td>New York Times</td>\n",
              "      <td>Carl Hulse</td>\n",
              "      <td>2016-12-31</td>\n",
              "      <td>2016.0</td>\n",
              "      <td>12.0</td>\n",
              "      <td>NaN</td>\n",
              "      <td>WASHINGTON  —   Congressional Republicans have...</td>\n",
              "    </tr>\n",
              "    <tr>\n",
              "      <th>1</th>\n",
              "      <td>1</td>\n",
              "      <td>17284</td>\n",
              "      <td>Rift Between Officers and Residents as Killing...</td>\n",
              "      <td>New York Times</td>\n",
              "      <td>Benjamin Mueller and Al Baker</td>\n",
              "      <td>2017-06-19</td>\n",
              "      <td>2017.0</td>\n",
              "      <td>6.0</td>\n",
              "      <td>NaN</td>\n",
              "      <td>After the bullet shells get counted, the blood...</td>\n",
              "    </tr>\n",
              "    <tr>\n",
              "      <th>2</th>\n",
              "      <td>2</td>\n",
              "      <td>17285</td>\n",
              "      <td>Tyrus Wong, ‘Bambi’ Artist Thwarted by Racial ...</td>\n",
              "      <td>New York Times</td>\n",
              "      <td>Margalit Fox</td>\n",
              "      <td>2017-01-06</td>\n",
              "      <td>2017.0</td>\n",
              "      <td>1.0</td>\n",
              "      <td>NaN</td>\n",
              "      <td>When Walt Disney’s “Bambi” opened in 1942, cri...</td>\n",
              "    </tr>\n",
              "    <tr>\n",
              "      <th>3</th>\n",
              "      <td>3</td>\n",
              "      <td>17286</td>\n",
              "      <td>Among Deaths in 2016, a Heavy Toll in Pop Musi...</td>\n",
              "      <td>New York Times</td>\n",
              "      <td>William McDonald</td>\n",
              "      <td>2017-04-10</td>\n",
              "      <td>2017.0</td>\n",
              "      <td>4.0</td>\n",
              "      <td>NaN</td>\n",
              "      <td>Death may be the great equalizer, but it isn’t...</td>\n",
              "    </tr>\n",
              "    <tr>\n",
              "      <th>4</th>\n",
              "      <td>4</td>\n",
              "      <td>17287</td>\n",
              "      <td>Kim Jong-un Says North Korea Is Preparing to T...</td>\n",
              "      <td>New York Times</td>\n",
              "      <td>Choe Sang-Hun</td>\n",
              "      <td>2017-01-02</td>\n",
              "      <td>2017.0</td>\n",
              "      <td>1.0</td>\n",
              "      <td>NaN</td>\n",
              "      <td>SEOUL, South Korea  —   North Korea’s leader, ...</td>\n",
              "    </tr>\n",
              "  </tbody>\n",
              "</table>\n",
              "</div>\n",
              "      <button class=\"colab-df-convert\" onclick=\"convertToInteractive('df-10a2f5fa-b55a-4ebf-b7fd-e7052a94685f')\"\n",
              "              title=\"Convert this dataframe to an interactive table.\"\n",
              "              style=\"display:none;\">\n",
              "        \n",
              "  <svg xmlns=\"http://www.w3.org/2000/svg\" height=\"24px\"viewBox=\"0 0 24 24\"\n",
              "       width=\"24px\">\n",
              "    <path d=\"M0 0h24v24H0V0z\" fill=\"none\"/>\n",
              "    <path d=\"M18.56 5.44l.94 2.06.94-2.06 2.06-.94-2.06-.94-.94-2.06-.94 2.06-2.06.94zm-11 1L8.5 8.5l.94-2.06 2.06-.94-2.06-.94L8.5 2.5l-.94 2.06-2.06.94zm10 10l.94 2.06.94-2.06 2.06-.94-2.06-.94-.94-2.06-.94 2.06-2.06.94z\"/><path d=\"M17.41 7.96l-1.37-1.37c-.4-.4-.92-.59-1.43-.59-.52 0-1.04.2-1.43.59L10.3 9.45l-7.72 7.72c-.78.78-.78 2.05 0 2.83L4 21.41c.39.39.9.59 1.41.59.51 0 1.02-.2 1.41-.59l7.78-7.78 2.81-2.81c.8-.78.8-2.07 0-2.86zM5.41 20L4 18.59l7.72-7.72 1.47 1.35L5.41 20z\"/>\n",
              "  </svg>\n",
              "      </button>\n",
              "      \n",
              "  <style>\n",
              "    .colab-df-container {\n",
              "      display:flex;\n",
              "      flex-wrap:wrap;\n",
              "      gap: 12px;\n",
              "    }\n",
              "\n",
              "    .colab-df-convert {\n",
              "      background-color: #E8F0FE;\n",
              "      border: none;\n",
              "      border-radius: 50%;\n",
              "      cursor: pointer;\n",
              "      display: none;\n",
              "      fill: #1967D2;\n",
              "      height: 32px;\n",
              "      padding: 0 0 0 0;\n",
              "      width: 32px;\n",
              "    }\n",
              "\n",
              "    .colab-df-convert:hover {\n",
              "      background-color: #E2EBFA;\n",
              "      box-shadow: 0px 1px 2px rgba(60, 64, 67, 0.3), 0px 1px 3px 1px rgba(60, 64, 67, 0.15);\n",
              "      fill: #174EA6;\n",
              "    }\n",
              "\n",
              "    [theme=dark] .colab-df-convert {\n",
              "      background-color: #3B4455;\n",
              "      fill: #D2E3FC;\n",
              "    }\n",
              "\n",
              "    [theme=dark] .colab-df-convert:hover {\n",
              "      background-color: #434B5C;\n",
              "      box-shadow: 0px 1px 3px 1px rgba(0, 0, 0, 0.15);\n",
              "      filter: drop-shadow(0px 1px 2px rgba(0, 0, 0, 0.3));\n",
              "      fill: #FFFFFF;\n",
              "    }\n",
              "  </style>\n",
              "\n",
              "      <script>\n",
              "        const buttonEl =\n",
              "          document.querySelector('#df-10a2f5fa-b55a-4ebf-b7fd-e7052a94685f button.colab-df-convert');\n",
              "        buttonEl.style.display =\n",
              "          google.colab.kernel.accessAllowed ? 'block' : 'none';\n",
              "\n",
              "        async function convertToInteractive(key) {\n",
              "          const element = document.querySelector('#df-10a2f5fa-b55a-4ebf-b7fd-e7052a94685f');\n",
              "          const dataTable =\n",
              "            await google.colab.kernel.invokeFunction('convertToInteractive',\n",
              "                                                     [key], {});\n",
              "          if (!dataTable) return;\n",
              "\n",
              "          const docLinkHtml = 'Like what you see? Visit the ' +\n",
              "            '<a target=\"_blank\" href=https://colab.research.google.com/notebooks/data_table.ipynb>data table notebook</a>'\n",
              "            + ' to learn more about interactive tables.';\n",
              "          element.innerHTML = '';\n",
              "          dataTable['output_type'] = 'display_data';\n",
              "          await google.colab.output.renderOutput(dataTable, element);\n",
              "          const docLink = document.createElement('div');\n",
              "          docLink.innerHTML = docLinkHtml;\n",
              "          element.appendChild(docLink);\n",
              "        }\n",
              "      </script>\n",
              "    </div>\n",
              "  </div>\n",
              "  "
            ]
          },
          "metadata": {},
          "execution_count": 6
        }
      ]
    },
    {
      "cell_type": "code",
      "source": [
        "df_final = df[(df['content'].str.split().str.len() > 250) & (df['content'].str.split().str.len() < 300)][['title', 'content']]\n",
        "df_final"
      ],
      "metadata": {
        "colab": {
          "base_uri": "https://localhost:8080/",
          "height": 423
        },
        "id": "rYITKQvjnaC2",
        "outputId": "6de75fd7-eb46-49e4-dcac-62d9c0414c6a"
      },
      "execution_count": null,
      "outputs": [
        {
          "output_type": "execute_result",
          "data": {
            "text/plain": [
              "                                                    title  \\\n",
              "19      Fecal Pollution Taints Water at Melbourne’s Be...   \n",
              "203     Smithsonian Hears Call for Women’s Museum - Th...   \n",
              "439     NBC Will Bring Back ‘Will &amp Grace’ - The Ne...   \n",
              "571     Bernie Ecclestone Is Replaced as Formula One C...   \n",
              "616     Pence Will Speak at Anti-Abortion Rally - The ...   \n",
              "...                                                   ...   \n",
              "141971  I interviewed the Ohio State attacker on the f...   \n",
              "142082  The Nationals have two years to win a World Se...   \n",
              "142279  Traces of explosives found on human remains fr...   \n",
              "142407  Australian police say they prevented bombings ...   \n",
              "142448  The Arctic is showing stunning winter warmth, ...   \n",
              "\n",
              "                                                  content  \n",
              "19      SYDNEY, Australia  —   The annual beach pilgri...  \n",
              "203     Leading women from politics, the arts and othe...  \n",
              "439     In an era of revivals and reboots, this may ha...  \n",
              "571     LONDON  —   Bernie Ecclestone’s longstanding l...  \n",
              "616     WASHINGTON  —   Vice President Mike Pence will...  \n",
              "...                                                   ...  \n",
              "141971       Abdul Razak Ali Artan was sitting alone a...  \n",
              "142082   With baseball’s winter meetings right here al...  \n",
              "142279    CAIRO  —   Traces of explosives have been fo...  \n",
              "142407   MELBOURNE, Australia  —   Police arrested sev...  \n",
              "142448       Last month, temperatures in the high Arct...  \n",
              "\n",
              "[7395 rows x 2 columns]"
            ],
            "text/html": [
              "\n",
              "  <div id=\"df-a92d191c-e59b-4f58-807a-4699911701a4\">\n",
              "    <div class=\"colab-df-container\">\n",
              "      <div>\n",
              "<style scoped>\n",
              "    .dataframe tbody tr th:only-of-type {\n",
              "        vertical-align: middle;\n",
              "    }\n",
              "\n",
              "    .dataframe tbody tr th {\n",
              "        vertical-align: top;\n",
              "    }\n",
              "\n",
              "    .dataframe thead th {\n",
              "        text-align: right;\n",
              "    }\n",
              "</style>\n",
              "<table border=\"1\" class=\"dataframe\">\n",
              "  <thead>\n",
              "    <tr style=\"text-align: right;\">\n",
              "      <th></th>\n",
              "      <th>title</th>\n",
              "      <th>content</th>\n",
              "    </tr>\n",
              "  </thead>\n",
              "  <tbody>\n",
              "    <tr>\n",
              "      <th>19</th>\n",
              "      <td>Fecal Pollution Taints Water at Melbourne’s Be...</td>\n",
              "      <td>SYDNEY, Australia  —   The annual beach pilgri...</td>\n",
              "    </tr>\n",
              "    <tr>\n",
              "      <th>203</th>\n",
              "      <td>Smithsonian Hears Call for Women’s Museum - Th...</td>\n",
              "      <td>Leading women from politics, the arts and othe...</td>\n",
              "    </tr>\n",
              "    <tr>\n",
              "      <th>439</th>\n",
              "      <td>NBC Will Bring Back ‘Will &amp;amp Grace’ - The Ne...</td>\n",
              "      <td>In an era of revivals and reboots, this may ha...</td>\n",
              "    </tr>\n",
              "    <tr>\n",
              "      <th>571</th>\n",
              "      <td>Bernie Ecclestone Is Replaced as Formula One C...</td>\n",
              "      <td>LONDON  —   Bernie Ecclestone’s longstanding l...</td>\n",
              "    </tr>\n",
              "    <tr>\n",
              "      <th>616</th>\n",
              "      <td>Pence Will Speak at Anti-Abortion Rally - The ...</td>\n",
              "      <td>WASHINGTON  —   Vice President Mike Pence will...</td>\n",
              "    </tr>\n",
              "    <tr>\n",
              "      <th>...</th>\n",
              "      <td>...</td>\n",
              "      <td>...</td>\n",
              "    </tr>\n",
              "    <tr>\n",
              "      <th>141971</th>\n",
              "      <td>I interviewed the Ohio State attacker on the f...</td>\n",
              "      <td>Abdul Razak Ali Artan was sitting alone a...</td>\n",
              "    </tr>\n",
              "    <tr>\n",
              "      <th>142082</th>\n",
              "      <td>The Nationals have two years to win a World Se...</td>\n",
              "      <td>With baseball’s winter meetings right here al...</td>\n",
              "    </tr>\n",
              "    <tr>\n",
              "      <th>142279</th>\n",
              "      <td>Traces of explosives found on human remains fr...</td>\n",
              "      <td>CAIRO  —   Traces of explosives have been fo...</td>\n",
              "    </tr>\n",
              "    <tr>\n",
              "      <th>142407</th>\n",
              "      <td>Australian police say they prevented bombings ...</td>\n",
              "      <td>MELBOURNE, Australia  —   Police arrested sev...</td>\n",
              "    </tr>\n",
              "    <tr>\n",
              "      <th>142448</th>\n",
              "      <td>The Arctic is showing stunning winter warmth, ...</td>\n",
              "      <td>Last month, temperatures in the high Arct...</td>\n",
              "    </tr>\n",
              "  </tbody>\n",
              "</table>\n",
              "<p>7395 rows × 2 columns</p>\n",
              "</div>\n",
              "      <button class=\"colab-df-convert\" onclick=\"convertToInteractive('df-a92d191c-e59b-4f58-807a-4699911701a4')\"\n",
              "              title=\"Convert this dataframe to an interactive table.\"\n",
              "              style=\"display:none;\">\n",
              "        \n",
              "  <svg xmlns=\"http://www.w3.org/2000/svg\" height=\"24px\"viewBox=\"0 0 24 24\"\n",
              "       width=\"24px\">\n",
              "    <path d=\"M0 0h24v24H0V0z\" fill=\"none\"/>\n",
              "    <path d=\"M18.56 5.44l.94 2.06.94-2.06 2.06-.94-2.06-.94-.94-2.06-.94 2.06-2.06.94zm-11 1L8.5 8.5l.94-2.06 2.06-.94-2.06-.94L8.5 2.5l-.94 2.06-2.06.94zm10 10l.94 2.06.94-2.06 2.06-.94-2.06-.94-.94-2.06-.94 2.06-2.06.94z\"/><path d=\"M17.41 7.96l-1.37-1.37c-.4-.4-.92-.59-1.43-.59-.52 0-1.04.2-1.43.59L10.3 9.45l-7.72 7.72c-.78.78-.78 2.05 0 2.83L4 21.41c.39.39.9.59 1.41.59.51 0 1.02-.2 1.41-.59l7.78-7.78 2.81-2.81c.8-.78.8-2.07 0-2.86zM5.41 20L4 18.59l7.72-7.72 1.47 1.35L5.41 20z\"/>\n",
              "  </svg>\n",
              "      </button>\n",
              "      \n",
              "  <style>\n",
              "    .colab-df-container {\n",
              "      display:flex;\n",
              "      flex-wrap:wrap;\n",
              "      gap: 12px;\n",
              "    }\n",
              "\n",
              "    .colab-df-convert {\n",
              "      background-color: #E8F0FE;\n",
              "      border: none;\n",
              "      border-radius: 50%;\n",
              "      cursor: pointer;\n",
              "      display: none;\n",
              "      fill: #1967D2;\n",
              "      height: 32px;\n",
              "      padding: 0 0 0 0;\n",
              "      width: 32px;\n",
              "    }\n",
              "\n",
              "    .colab-df-convert:hover {\n",
              "      background-color: #E2EBFA;\n",
              "      box-shadow: 0px 1px 2px rgba(60, 64, 67, 0.3), 0px 1px 3px 1px rgba(60, 64, 67, 0.15);\n",
              "      fill: #174EA6;\n",
              "    }\n",
              "\n",
              "    [theme=dark] .colab-df-convert {\n",
              "      background-color: #3B4455;\n",
              "      fill: #D2E3FC;\n",
              "    }\n",
              "\n",
              "    [theme=dark] .colab-df-convert:hover {\n",
              "      background-color: #434B5C;\n",
              "      box-shadow: 0px 1px 3px 1px rgba(0, 0, 0, 0.15);\n",
              "      filter: drop-shadow(0px 1px 2px rgba(0, 0, 0, 0.3));\n",
              "      fill: #FFFFFF;\n",
              "    }\n",
              "  </style>\n",
              "\n",
              "      <script>\n",
              "        const buttonEl =\n",
              "          document.querySelector('#df-a92d191c-e59b-4f58-807a-4699911701a4 button.colab-df-convert');\n",
              "        buttonEl.style.display =\n",
              "          google.colab.kernel.accessAllowed ? 'block' : 'none';\n",
              "\n",
              "        async function convertToInteractive(key) {\n",
              "          const element = document.querySelector('#df-a92d191c-e59b-4f58-807a-4699911701a4');\n",
              "          const dataTable =\n",
              "            await google.colab.kernel.invokeFunction('convertToInteractive',\n",
              "                                                     [key], {});\n",
              "          if (!dataTable) return;\n",
              "\n",
              "          const docLinkHtml = 'Like what you see? Visit the ' +\n",
              "            '<a target=\"_blank\" href=https://colab.research.google.com/notebooks/data_table.ipynb>data table notebook</a>'\n",
              "            + ' to learn more about interactive tables.';\n",
              "          element.innerHTML = '';\n",
              "          dataTable['output_type'] = 'display_data';\n",
              "          await google.colab.output.renderOutput(dataTable, element);\n",
              "          const docLink = document.createElement('div');\n",
              "          docLink.innerHTML = docLinkHtml;\n",
              "          element.appendChild(docLink);\n",
              "        }\n",
              "      </script>\n",
              "    </div>\n",
              "  </div>\n",
              "  "
            ]
          },
          "metadata": {},
          "execution_count": 7
        }
      ]
    },
    {
      "cell_type": "code",
      "source": [
        "df_final.reset_index(drop=True, inplace = True)\n",
        "df_final"
      ],
      "metadata": {
        "colab": {
          "base_uri": "https://localhost:8080/",
          "height": 423
        },
        "id": "X31MKny3nlvv",
        "outputId": "7625b269-e0d2-4f84-b2f6-388274b32951"
      },
      "execution_count": null,
      "outputs": [
        {
          "output_type": "execute_result",
          "data": {
            "text/plain": [
              "                                                  title  \\\n",
              "0     Fecal Pollution Taints Water at Melbourne’s Be...   \n",
              "1     Smithsonian Hears Call for Women’s Museum - Th...   \n",
              "2     NBC Will Bring Back ‘Will &amp Grace’ - The Ne...   \n",
              "3     Bernie Ecclestone Is Replaced as Formula One C...   \n",
              "4     Pence Will Speak at Anti-Abortion Rally - The ...   \n",
              "...                                                 ...   \n",
              "7390  I interviewed the Ohio State attacker on the f...   \n",
              "7391  The Nationals have two years to win a World Se...   \n",
              "7392  Traces of explosives found on human remains fr...   \n",
              "7393  Australian police say they prevented bombings ...   \n",
              "7394  The Arctic is showing stunning winter warmth, ...   \n",
              "\n",
              "                                                content  \n",
              "0     SYDNEY, Australia  —   The annual beach pilgri...  \n",
              "1     Leading women from politics, the arts and othe...  \n",
              "2     In an era of revivals and reboots, this may ha...  \n",
              "3     LONDON  —   Bernie Ecclestone’s longstanding l...  \n",
              "4     WASHINGTON  —   Vice President Mike Pence will...  \n",
              "...                                                 ...  \n",
              "7390       Abdul Razak Ali Artan was sitting alone a...  \n",
              "7391   With baseball’s winter meetings right here al...  \n",
              "7392    CAIRO  —   Traces of explosives have been fo...  \n",
              "7393   MELBOURNE, Australia  —   Police arrested sev...  \n",
              "7394       Last month, temperatures in the high Arct...  \n",
              "\n",
              "[7395 rows x 2 columns]"
            ],
            "text/html": [
              "\n",
              "  <div id=\"df-4b433c2c-2aa7-4fee-aea4-d27a15708c4b\">\n",
              "    <div class=\"colab-df-container\">\n",
              "      <div>\n",
              "<style scoped>\n",
              "    .dataframe tbody tr th:only-of-type {\n",
              "        vertical-align: middle;\n",
              "    }\n",
              "\n",
              "    .dataframe tbody tr th {\n",
              "        vertical-align: top;\n",
              "    }\n",
              "\n",
              "    .dataframe thead th {\n",
              "        text-align: right;\n",
              "    }\n",
              "</style>\n",
              "<table border=\"1\" class=\"dataframe\">\n",
              "  <thead>\n",
              "    <tr style=\"text-align: right;\">\n",
              "      <th></th>\n",
              "      <th>title</th>\n",
              "      <th>content</th>\n",
              "    </tr>\n",
              "  </thead>\n",
              "  <tbody>\n",
              "    <tr>\n",
              "      <th>0</th>\n",
              "      <td>Fecal Pollution Taints Water at Melbourne’s Be...</td>\n",
              "      <td>SYDNEY, Australia  —   The annual beach pilgri...</td>\n",
              "    </tr>\n",
              "    <tr>\n",
              "      <th>1</th>\n",
              "      <td>Smithsonian Hears Call for Women’s Museum - Th...</td>\n",
              "      <td>Leading women from politics, the arts and othe...</td>\n",
              "    </tr>\n",
              "    <tr>\n",
              "      <th>2</th>\n",
              "      <td>NBC Will Bring Back ‘Will &amp;amp Grace’ - The Ne...</td>\n",
              "      <td>In an era of revivals and reboots, this may ha...</td>\n",
              "    </tr>\n",
              "    <tr>\n",
              "      <th>3</th>\n",
              "      <td>Bernie Ecclestone Is Replaced as Formula One C...</td>\n",
              "      <td>LONDON  —   Bernie Ecclestone’s longstanding l...</td>\n",
              "    </tr>\n",
              "    <tr>\n",
              "      <th>4</th>\n",
              "      <td>Pence Will Speak at Anti-Abortion Rally - The ...</td>\n",
              "      <td>WASHINGTON  —   Vice President Mike Pence will...</td>\n",
              "    </tr>\n",
              "    <tr>\n",
              "      <th>...</th>\n",
              "      <td>...</td>\n",
              "      <td>...</td>\n",
              "    </tr>\n",
              "    <tr>\n",
              "      <th>7390</th>\n",
              "      <td>I interviewed the Ohio State attacker on the f...</td>\n",
              "      <td>Abdul Razak Ali Artan was sitting alone a...</td>\n",
              "    </tr>\n",
              "    <tr>\n",
              "      <th>7391</th>\n",
              "      <td>The Nationals have two years to win a World Se...</td>\n",
              "      <td>With baseball’s winter meetings right here al...</td>\n",
              "    </tr>\n",
              "    <tr>\n",
              "      <th>7392</th>\n",
              "      <td>Traces of explosives found on human remains fr...</td>\n",
              "      <td>CAIRO  —   Traces of explosives have been fo...</td>\n",
              "    </tr>\n",
              "    <tr>\n",
              "      <th>7393</th>\n",
              "      <td>Australian police say they prevented bombings ...</td>\n",
              "      <td>MELBOURNE, Australia  —   Police arrested sev...</td>\n",
              "    </tr>\n",
              "    <tr>\n",
              "      <th>7394</th>\n",
              "      <td>The Arctic is showing stunning winter warmth, ...</td>\n",
              "      <td>Last month, temperatures in the high Arct...</td>\n",
              "    </tr>\n",
              "  </tbody>\n",
              "</table>\n",
              "<p>7395 rows × 2 columns</p>\n",
              "</div>\n",
              "      <button class=\"colab-df-convert\" onclick=\"convertToInteractive('df-4b433c2c-2aa7-4fee-aea4-d27a15708c4b')\"\n",
              "              title=\"Convert this dataframe to an interactive table.\"\n",
              "              style=\"display:none;\">\n",
              "        \n",
              "  <svg xmlns=\"http://www.w3.org/2000/svg\" height=\"24px\"viewBox=\"0 0 24 24\"\n",
              "       width=\"24px\">\n",
              "    <path d=\"M0 0h24v24H0V0z\" fill=\"none\"/>\n",
              "    <path d=\"M18.56 5.44l.94 2.06.94-2.06 2.06-.94-2.06-.94-.94-2.06-.94 2.06-2.06.94zm-11 1L8.5 8.5l.94-2.06 2.06-.94-2.06-.94L8.5 2.5l-.94 2.06-2.06.94zm10 10l.94 2.06.94-2.06 2.06-.94-2.06-.94-.94-2.06-.94 2.06-2.06.94z\"/><path d=\"M17.41 7.96l-1.37-1.37c-.4-.4-.92-.59-1.43-.59-.52 0-1.04.2-1.43.59L10.3 9.45l-7.72 7.72c-.78.78-.78 2.05 0 2.83L4 21.41c.39.39.9.59 1.41.59.51 0 1.02-.2 1.41-.59l7.78-7.78 2.81-2.81c.8-.78.8-2.07 0-2.86zM5.41 20L4 18.59l7.72-7.72 1.47 1.35L5.41 20z\"/>\n",
              "  </svg>\n",
              "      </button>\n",
              "      \n",
              "  <style>\n",
              "    .colab-df-container {\n",
              "      display:flex;\n",
              "      flex-wrap:wrap;\n",
              "      gap: 12px;\n",
              "    }\n",
              "\n",
              "    .colab-df-convert {\n",
              "      background-color: #E8F0FE;\n",
              "      border: none;\n",
              "      border-radius: 50%;\n",
              "      cursor: pointer;\n",
              "      display: none;\n",
              "      fill: #1967D2;\n",
              "      height: 32px;\n",
              "      padding: 0 0 0 0;\n",
              "      width: 32px;\n",
              "    }\n",
              "\n",
              "    .colab-df-convert:hover {\n",
              "      background-color: #E2EBFA;\n",
              "      box-shadow: 0px 1px 2px rgba(60, 64, 67, 0.3), 0px 1px 3px 1px rgba(60, 64, 67, 0.15);\n",
              "      fill: #174EA6;\n",
              "    }\n",
              "\n",
              "    [theme=dark] .colab-df-convert {\n",
              "      background-color: #3B4455;\n",
              "      fill: #D2E3FC;\n",
              "    }\n",
              "\n",
              "    [theme=dark] .colab-df-convert:hover {\n",
              "      background-color: #434B5C;\n",
              "      box-shadow: 0px 1px 3px 1px rgba(0, 0, 0, 0.15);\n",
              "      filter: drop-shadow(0px 1px 2px rgba(0, 0, 0, 0.3));\n",
              "      fill: #FFFFFF;\n",
              "    }\n",
              "  </style>\n",
              "\n",
              "      <script>\n",
              "        const buttonEl =\n",
              "          document.querySelector('#df-4b433c2c-2aa7-4fee-aea4-d27a15708c4b button.colab-df-convert');\n",
              "        buttonEl.style.display =\n",
              "          google.colab.kernel.accessAllowed ? 'block' : 'none';\n",
              "\n",
              "        async function convertToInteractive(key) {\n",
              "          const element = document.querySelector('#df-4b433c2c-2aa7-4fee-aea4-d27a15708c4b');\n",
              "          const dataTable =\n",
              "            await google.colab.kernel.invokeFunction('convertToInteractive',\n",
              "                                                     [key], {});\n",
              "          if (!dataTable) return;\n",
              "\n",
              "          const docLinkHtml = 'Like what you see? Visit the ' +\n",
              "            '<a target=\"_blank\" href=https://colab.research.google.com/notebooks/data_table.ipynb>data table notebook</a>'\n",
              "            + ' to learn more about interactive tables.';\n",
              "          element.innerHTML = '';\n",
              "          dataTable['output_type'] = 'display_data';\n",
              "          await google.colab.output.renderOutput(dataTable, element);\n",
              "          const docLink = document.createElement('div');\n",
              "          docLink.innerHTML = docLinkHtml;\n",
              "          element.appendChild(docLink);\n",
              "        }\n",
              "      </script>\n",
              "    </div>\n",
              "  </div>\n",
              "  "
            ]
          },
          "metadata": {},
          "execution_count": 8
        }
      ]
    },
    {
      "cell_type": "code",
      "source": [
        "df_final['content'] = df_final['content'].str.replace(r'[^\\w\\s]+', '')\n"
      ],
      "metadata": {
        "colab": {
          "base_uri": "https://localhost:8080/"
        },
        "id": "LHYldcqVpFzi",
        "outputId": "faae0b2d-3071-471b-acae-56566a2b7d17"
      },
      "execution_count": null,
      "outputs": [
        {
          "output_type": "stream",
          "name": "stderr",
          "text": [
            "/usr/local/lib/python3.7/dist-packages/ipykernel_launcher.py:1: FutureWarning: The default value of regex will change from True to False in a future version.\n",
            "  \"\"\"Entry point for launching an IPython kernel.\n"
          ]
        }
      ]
    },
    {
      "cell_type": "code",
      "source": [
        "# ! curl -L -o 4.tar.gz \"https://tfhub.dev/google/universal-sentence-encoder/4?tf-hub-format=compressed\"\n"
      ],
      "metadata": {
        "id": "xDSHruaZJG8f"
      },
      "execution_count": null,
      "outputs": []
    },
    {
      "cell_type": "code",
      "source": [
        "# #Model load through local path:\n",
        "# module_path =\"https://tfhub.dev/google/universal-sentence-encoder/4\"\n",
        "# %time model = hub.load(module_path)\n",
        "# #Create function for using model training\n",
        "# def embed(input):\n",
        "#     return model(input)"
      ],
      "metadata": {
        "id": "rJOSTXMIJN2T"
      },
      "execution_count": null,
      "outputs": []
    },
    {
      "cell_type": "code",
      "source": [
        "# Model_USE= embed(df.content[0:2500])\n"
      ],
      "metadata": {
        "id": "E_v_hPfAJrdS"
      },
      "execution_count": null,
      "outputs": []
    },
    {
      "cell_type": "code",
      "source": [
        "# exported = tf.train.Checkpoint(v=tf.Variable(Model_USE))\n",
        "# exported.f = tf.function(\n",
        "#     lambda  x: exported.v * x,\n",
        "#     input_signature=[tf.TensorSpec(shape=None, dtype=tf.float32)])\n",
        "# tf.saved_model.save(exported,'/content/drive/MyDrive/IR/MODEL')"
      ],
      "metadata": {
        "id": "FAAlXkabJvwx"
      },
      "execution_count": null,
      "outputs": []
    },
    {
      "cell_type": "code",
      "source": [
        "# imported = tf.saved_model.load('/content/drive/MyDrive/IR/MODEL/')\n",
        "# loadedmodel =imported.v.numpy()"
      ],
      "metadata": {
        "id": "7_PqA82ELhQ4"
      },
      "execution_count": null,
      "outputs": []
    },
    {
      "cell_type": "code",
      "source": [
        "# def SearchDocument(query):\n",
        "#     q =[query]\n",
        "#     # embed the query for calcluating the similarity\n",
        "#     Q_Train =embed(q)\n",
        "    \n",
        "#     #imported_m = tf.saved_model.load('/home/zettadevs/GoogleUSEModel/TrainModel')\n",
        "#     #loadedmodel =imported_m.v.numpy()\n",
        "#     # Calculate the Similarity\n",
        "#     linear_similarities = linear_kernel(Q_Train, con_a).flatten() \n",
        "#     #Sort top 10 index with similarity score\n",
        "#     Top_index_doc = linear_similarities.argsort()[:-11:-1]\n",
        "#     # sort by similarity score\n",
        "#     linear_similarities.sort()\n",
        "#     a = pd.DataFrame()\n",
        "#     for i,index in enumerate(Top_index_doc):\n",
        "#         a.loc[i,'index'] = str(index)\n",
        "#         a.loc[i,'title'] = df['content'][index] ## Read File name with index from File_data DF\n",
        "#     for j,simScore in enumerate(linear_similarities[:-11:-1]):\n",
        "#         a.loc[j,'Score'] = simScore\n",
        "#     return a\n"
      ],
      "metadata": {
        "id": "EyMAKgCvL_r0"
      },
      "execution_count": null,
      "outputs": []
    },
    {
      "cell_type": "code",
      "source": [
        ""
      ],
      "metadata": {
        "id": "aT3mttnSb0Dh"
      },
      "execution_count": null,
      "outputs": []
    },
    {
      "cell_type": "code",
      "source": [
        "# Change all the text to lower case. This is required as python interprets 'dog' and 'DOG' differently\n",
        "df_final['content']=[entry.lower() for entry in df_final['content']]"
      ],
      "metadata": {
        "id": "QcnIle4rbw34"
      },
      "execution_count": null,
      "outputs": []
    },
    {
      "cell_type": "code",
      "source": [
        "## data Cleaning for content data of news\n",
        "df_final.content =df_final.content.replace(to_replace='[!\"#$%&\\'()*+,/:;<=>?@[\\\\]^_`{|}~]',value=' ',regex=True) #remove punctuation except\n",
        "df_final.content =df_final.content.replace(to_replace='-',value=' ',regex=True)\n",
        "df_final.content =df_final.content.replace(to_replace='\\s+',value=' ',regex=True)    #remove new line\n",
        "df_final.content =df_final.content.replace(to_replace='  ',value='',regex=True)                #remove double white space\n",
        "df_final.content =df_final.content.apply(lambda x:x.strip())  # Ltrim and Rtrim of whitespace"
      ],
      "metadata": {
        "id": "gJvN_vjHgC4W"
      },
      "execution_count": null,
      "outputs": []
    },
    {
      "cell_type": "code",
      "source": [
        "## data cleaning for title data \n",
        "df_final.title =df_final.title.replace(to_replace='[!\"#$%&\\'()*+,-./:;<=>?@[\\\\]^_`{|}~]',value=' ',regex=True)\n",
        "df_final.title =df_final.title.replace(to_replace='\\s+',value=' ',regex=True)    #remove new line\n",
        "df_final.title =df_final.title.replace(to_replace='  ',value='',regex=True)    #remove double white space\n",
        "# df_news.title =df_news.title.apply(lambda x:x.strip())"
      ],
      "metadata": {
        "id": "LfjYJdZigM90"
      },
      "execution_count": null,
      "outputs": []
    },
    {
      "cell_type": "code",
      "source": [
        "df_final"
      ],
      "metadata": {
        "colab": {
          "base_uri": "https://localhost:8080/",
          "height": 423
        },
        "id": "BeSrpvW8gv4t",
        "outputId": "93f1a47f-03f1-46f3-a372-3d1eb5a85a13"
      },
      "execution_count": null,
      "outputs": [
        {
          "output_type": "execute_result",
          "data": {
            "text/plain": [
              "                                                  title  \\\n",
              "0     Fecal Pollution Taints Water at Melbourne’s Be...   \n",
              "1     Smithsonian Hears Call for Women’s Museum The ...   \n",
              "2     NBC Will Bring Back ‘Will amp Grace’ The New Y...   \n",
              "3     Bernie Ecclestone Is Replaced as Formula One C...   \n",
              "4     Pence Will Speak at Anti Abortion Rally The Ne...   \n",
              "...                                                 ...   \n",
              "7390  I interviewed the Ohio State attacker on the f...   \n",
              "7391  The Nationals have two years to win a World Se...   \n",
              "7392  Traces of explosives found on human remains fr...   \n",
              "7393  Australian police say they prevented bombings ...   \n",
              "7394  The Arctic is showing stunning winter warmth a...   \n",
              "\n",
              "                                                content  \n",
              "0     sydney australia the annual beach pilgrimage d...  \n",
              "1     leading women from politics the arts and other...  \n",
              "2     in an era of revivals and reboots this may hav...  \n",
              "3     london bernie ecclestones longstanding leaders...  \n",
              "4     washington vice president mike pence will spea...  \n",
              "...                                                 ...  \n",
              "7390  abdul razak ali artan was sitting alone at a r...  \n",
              "7391  with baseballs winter meetings right here alon...  \n",
              "7392  cairo traces of explosives have been found on ...  \n",
              "7393  melbourne australia police arrested seven susp...  \n",
              "7394  last month temperatures in the high arctic spi...  \n",
              "\n",
              "[7395 rows x 2 columns]"
            ],
            "text/html": [
              "\n",
              "  <div id=\"df-acede3f1-854c-4fd4-9749-702f41e6a451\">\n",
              "    <div class=\"colab-df-container\">\n",
              "      <div>\n",
              "<style scoped>\n",
              "    .dataframe tbody tr th:only-of-type {\n",
              "        vertical-align: middle;\n",
              "    }\n",
              "\n",
              "    .dataframe tbody tr th {\n",
              "        vertical-align: top;\n",
              "    }\n",
              "\n",
              "    .dataframe thead th {\n",
              "        text-align: right;\n",
              "    }\n",
              "</style>\n",
              "<table border=\"1\" class=\"dataframe\">\n",
              "  <thead>\n",
              "    <tr style=\"text-align: right;\">\n",
              "      <th></th>\n",
              "      <th>title</th>\n",
              "      <th>content</th>\n",
              "    </tr>\n",
              "  </thead>\n",
              "  <tbody>\n",
              "    <tr>\n",
              "      <th>0</th>\n",
              "      <td>Fecal Pollution Taints Water at Melbourne’s Be...</td>\n",
              "      <td>sydney australia the annual beach pilgrimage d...</td>\n",
              "    </tr>\n",
              "    <tr>\n",
              "      <th>1</th>\n",
              "      <td>Smithsonian Hears Call for Women’s Museum The ...</td>\n",
              "      <td>leading women from politics the arts and other...</td>\n",
              "    </tr>\n",
              "    <tr>\n",
              "      <th>2</th>\n",
              "      <td>NBC Will Bring Back ‘Will amp Grace’ The New Y...</td>\n",
              "      <td>in an era of revivals and reboots this may hav...</td>\n",
              "    </tr>\n",
              "    <tr>\n",
              "      <th>3</th>\n",
              "      <td>Bernie Ecclestone Is Replaced as Formula One C...</td>\n",
              "      <td>london bernie ecclestones longstanding leaders...</td>\n",
              "    </tr>\n",
              "    <tr>\n",
              "      <th>4</th>\n",
              "      <td>Pence Will Speak at Anti Abortion Rally The Ne...</td>\n",
              "      <td>washington vice president mike pence will spea...</td>\n",
              "    </tr>\n",
              "    <tr>\n",
              "      <th>...</th>\n",
              "      <td>...</td>\n",
              "      <td>...</td>\n",
              "    </tr>\n",
              "    <tr>\n",
              "      <th>7390</th>\n",
              "      <td>I interviewed the Ohio State attacker on the f...</td>\n",
              "      <td>abdul razak ali artan was sitting alone at a r...</td>\n",
              "    </tr>\n",
              "    <tr>\n",
              "      <th>7391</th>\n",
              "      <td>The Nationals have two years to win a World Se...</td>\n",
              "      <td>with baseballs winter meetings right here alon...</td>\n",
              "    </tr>\n",
              "    <tr>\n",
              "      <th>7392</th>\n",
              "      <td>Traces of explosives found on human remains fr...</td>\n",
              "      <td>cairo traces of explosives have been found on ...</td>\n",
              "    </tr>\n",
              "    <tr>\n",
              "      <th>7393</th>\n",
              "      <td>Australian police say they prevented bombings ...</td>\n",
              "      <td>melbourne australia police arrested seven susp...</td>\n",
              "    </tr>\n",
              "    <tr>\n",
              "      <th>7394</th>\n",
              "      <td>The Arctic is showing stunning winter warmth a...</td>\n",
              "      <td>last month temperatures in the high arctic spi...</td>\n",
              "    </tr>\n",
              "  </tbody>\n",
              "</table>\n",
              "<p>7395 rows × 2 columns</p>\n",
              "</div>\n",
              "      <button class=\"colab-df-convert\" onclick=\"convertToInteractive('df-acede3f1-854c-4fd4-9749-702f41e6a451')\"\n",
              "              title=\"Convert this dataframe to an interactive table.\"\n",
              "              style=\"display:none;\">\n",
              "        \n",
              "  <svg xmlns=\"http://www.w3.org/2000/svg\" height=\"24px\"viewBox=\"0 0 24 24\"\n",
              "       width=\"24px\">\n",
              "    <path d=\"M0 0h24v24H0V0z\" fill=\"none\"/>\n",
              "    <path d=\"M18.56 5.44l.94 2.06.94-2.06 2.06-.94-2.06-.94-.94-2.06-.94 2.06-2.06.94zm-11 1L8.5 8.5l.94-2.06 2.06-.94-2.06-.94L8.5 2.5l-.94 2.06-2.06.94zm10 10l.94 2.06.94-2.06 2.06-.94-2.06-.94-.94-2.06-.94 2.06-2.06.94z\"/><path d=\"M17.41 7.96l-1.37-1.37c-.4-.4-.92-.59-1.43-.59-.52 0-1.04.2-1.43.59L10.3 9.45l-7.72 7.72c-.78.78-.78 2.05 0 2.83L4 21.41c.39.39.9.59 1.41.59.51 0 1.02-.2 1.41-.59l7.78-7.78 2.81-2.81c.8-.78.8-2.07 0-2.86zM5.41 20L4 18.59l7.72-7.72 1.47 1.35L5.41 20z\"/>\n",
              "  </svg>\n",
              "      </button>\n",
              "      \n",
              "  <style>\n",
              "    .colab-df-container {\n",
              "      display:flex;\n",
              "      flex-wrap:wrap;\n",
              "      gap: 12px;\n",
              "    }\n",
              "\n",
              "    .colab-df-convert {\n",
              "      background-color: #E8F0FE;\n",
              "      border: none;\n",
              "      border-radius: 50%;\n",
              "      cursor: pointer;\n",
              "      display: none;\n",
              "      fill: #1967D2;\n",
              "      height: 32px;\n",
              "      padding: 0 0 0 0;\n",
              "      width: 32px;\n",
              "    }\n",
              "\n",
              "    .colab-df-convert:hover {\n",
              "      background-color: #E2EBFA;\n",
              "      box-shadow: 0px 1px 2px rgba(60, 64, 67, 0.3), 0px 1px 3px 1px rgba(60, 64, 67, 0.15);\n",
              "      fill: #174EA6;\n",
              "    }\n",
              "\n",
              "    [theme=dark] .colab-df-convert {\n",
              "      background-color: #3B4455;\n",
              "      fill: #D2E3FC;\n",
              "    }\n",
              "\n",
              "    [theme=dark] .colab-df-convert:hover {\n",
              "      background-color: #434B5C;\n",
              "      box-shadow: 0px 1px 3px 1px rgba(0, 0, 0, 0.15);\n",
              "      filter: drop-shadow(0px 1px 2px rgba(0, 0, 0, 0.3));\n",
              "      fill: #FFFFFF;\n",
              "    }\n",
              "  </style>\n",
              "\n",
              "      <script>\n",
              "        const buttonEl =\n",
              "          document.querySelector('#df-acede3f1-854c-4fd4-9749-702f41e6a451 button.colab-df-convert');\n",
              "        buttonEl.style.display =\n",
              "          google.colab.kernel.accessAllowed ? 'block' : 'none';\n",
              "\n",
              "        async function convertToInteractive(key) {\n",
              "          const element = document.querySelector('#df-acede3f1-854c-4fd4-9749-702f41e6a451');\n",
              "          const dataTable =\n",
              "            await google.colab.kernel.invokeFunction('convertToInteractive',\n",
              "                                                     [key], {});\n",
              "          if (!dataTable) return;\n",
              "\n",
              "          const docLinkHtml = 'Like what you see? Visit the ' +\n",
              "            '<a target=\"_blank\" href=https://colab.research.google.com/notebooks/data_table.ipynb>data table notebook</a>'\n",
              "            + ' to learn more about interactive tables.';\n",
              "          element.innerHTML = '';\n",
              "          dataTable['output_type'] = 'display_data';\n",
              "          await google.colab.output.renderOutput(dataTable, element);\n",
              "          const docLink = document.createElement('div');\n",
              "          docLink.innerHTML = docLinkHtml;\n",
              "          element.appendChild(docLink);\n",
              "        }\n",
              "      </script>\n",
              "    </div>\n",
              "  </div>\n",
              "  "
            ]
          },
          "metadata": {},
          "execution_count": 19
        }
      ]
    },
    {
      "cell_type": "code",
      "source": [
        "# df_news_cut = df_news_nodup[:12000]"
      ],
      "metadata": {
        "id": "EAEsY904m5nF"
      },
      "execution_count": null,
      "outputs": []
    },
    {
      "cell_type": "code",
      "source": [
        "df_final.shape"
      ],
      "metadata": {
        "colab": {
          "base_uri": "https://localhost:8080/"
        },
        "id": "orXgC_alnE-z",
        "outputId": "59a9608a-0e4d-41c2-d860-618f9f0f0860"
      },
      "execution_count": null,
      "outputs": [
        {
          "output_type": "execute_result",
          "data": {
            "text/plain": [
              "(7395, 2)"
            ]
          },
          "metadata": {},
          "execution_count": 21
        }
      ]
    },
    {
      "cell_type": "code",
      "source": [
        "# df_final['Word tokenize']= [word_tokenize(entry) for entry in df_final.content]\n"
      ],
      "metadata": {
        "id": "t3ixN3UUiUbW"
      },
      "execution_count": null,
      "outputs": []
    },
    {
      "cell_type": "code",
      "source": [
        "# df_news_cut"
      ],
      "metadata": {
        "id": "j2RDVGwmnnEu"
      },
      "execution_count": null,
      "outputs": []
    },
    {
      "cell_type": "code",
      "source": [
        "# df_final = df_news_cut[['title', 'content']]"
      ],
      "metadata": {
        "id": "xwSvEjmaogfG"
      },
      "execution_count": null,
      "outputs": []
    },
    {
      "cell_type": "code",
      "source": [
        "# df_final "
      ],
      "metadata": {
        "id": "yFcPt6Zhnzrt"
      },
      "execution_count": null,
      "outputs": []
    },
    {
      "cell_type": "code",
      "source": [
        "!pip install --upgrade tensorflow-gpu\n",
        "#Install TF-Hub.\n",
        "!pip install tensorflow-hub\n",
        "!pip install seaborn"
      ],
      "metadata": {
        "colab": {
          "base_uri": "https://localhost:8080/"
        },
        "id": "2QUhEgtwovg9",
        "outputId": "d592a629-0411-4e39-eb98-ae2c139d022e"
      },
      "execution_count": null,
      "outputs": [
        {
          "output_type": "stream",
          "name": "stdout",
          "text": [
            "Collecting tensorflow-gpu\n",
            "  Downloading tensorflow_gpu-2.8.0-cp37-cp37m-manylinux2010_x86_64.whl (497.5 MB)\n",
            "\u001b[K     |████████████████████████████████| 497.5 MB 16 kB/s \n",
            "\u001b[?25hRequirement already satisfied: tensorboard<2.9,>=2.8 in /usr/local/lib/python3.7/dist-packages (from tensorflow-gpu) (2.8.0)\n",
            "Requirement already satisfied: keras<2.9,>=2.8.0rc0 in /usr/local/lib/python3.7/dist-packages (from tensorflow-gpu) (2.8.0)\n",
            "Requirement already satisfied: google-pasta>=0.1.1 in /usr/local/lib/python3.7/dist-packages (from tensorflow-gpu) (0.2.0)\n",
            "Requirement already satisfied: absl-py>=0.4.0 in /usr/local/lib/python3.7/dist-packages (from tensorflow-gpu) (1.0.0)\n",
            "Requirement already satisfied: grpcio<2.0,>=1.24.3 in /usr/local/lib/python3.7/dist-packages (from tensorflow-gpu) (1.44.0)\n",
            "Requirement already satisfied: protobuf>=3.9.2 in /usr/local/lib/python3.7/dist-packages (from tensorflow-gpu) (3.17.3)\n",
            "Requirement already satisfied: setuptools in /usr/local/lib/python3.7/dist-packages (from tensorflow-gpu) (57.4.0)\n",
            "Requirement already satisfied: termcolor>=1.1.0 in /usr/local/lib/python3.7/dist-packages (from tensorflow-gpu) (1.1.0)\n",
            "Requirement already satisfied: keras-preprocessing>=1.1.1 in /usr/local/lib/python3.7/dist-packages (from tensorflow-gpu) (1.1.2)\n",
            "Requirement already satisfied: opt-einsum>=2.3.2 in /usr/local/lib/python3.7/dist-packages (from tensorflow-gpu) (3.3.0)\n",
            "Requirement already satisfied: tensorflow-io-gcs-filesystem>=0.23.1 in /usr/local/lib/python3.7/dist-packages (from tensorflow-gpu) (0.24.0)\n",
            "Collecting tf-estimator-nightly==2.8.0.dev2021122109\n",
            "  Downloading tf_estimator_nightly-2.8.0.dev2021122109-py2.py3-none-any.whl (462 kB)\n",
            "\u001b[K     |████████████████████████████████| 462 kB 54.2 MB/s \n",
            "\u001b[?25hRequirement already satisfied: h5py>=2.9.0 in /usr/local/lib/python3.7/dist-packages (from tensorflow-gpu) (3.1.0)\n",
            "Requirement already satisfied: flatbuffers>=1.12 in /usr/local/lib/python3.7/dist-packages (from tensorflow-gpu) (2.0)\n",
            "Requirement already satisfied: six>=1.12.0 in /usr/local/lib/python3.7/dist-packages (from tensorflow-gpu) (1.15.0)\n",
            "Requirement already satisfied: wrapt>=1.11.0 in /usr/local/lib/python3.7/dist-packages (from tensorflow-gpu) (1.14.0)\n",
            "Requirement already satisfied: gast>=0.2.1 in /usr/local/lib/python3.7/dist-packages (from tensorflow-gpu) (0.5.3)\n",
            "Requirement already satisfied: typing-extensions>=3.6.6 in /usr/local/lib/python3.7/dist-packages (from tensorflow-gpu) (4.1.1)\n",
            "Requirement already satisfied: libclang>=9.0.1 in /usr/local/lib/python3.7/dist-packages (from tensorflow-gpu) (13.0.0)\n",
            "Requirement already satisfied: astunparse>=1.6.0 in /usr/local/lib/python3.7/dist-packages (from tensorflow-gpu) (1.6.3)\n",
            "Requirement already satisfied: numpy>=1.20 in /usr/local/lib/python3.7/dist-packages (from tensorflow-gpu) (1.21.6)\n",
            "Requirement already satisfied: wheel<1.0,>=0.23.0 in /usr/local/lib/python3.7/dist-packages (from astunparse>=1.6.0->tensorflow-gpu) (0.37.1)\n",
            "Requirement already satisfied: cached-property in /usr/local/lib/python3.7/dist-packages (from h5py>=2.9.0->tensorflow-gpu) (1.5.2)\n",
            "Requirement already satisfied: tensorboard-data-server<0.7.0,>=0.6.0 in /usr/local/lib/python3.7/dist-packages (from tensorboard<2.9,>=2.8->tensorflow-gpu) (0.6.1)\n",
            "Requirement already satisfied: markdown>=2.6.8 in /usr/local/lib/python3.7/dist-packages (from tensorboard<2.9,>=2.8->tensorflow-gpu) (3.3.6)\n",
            "Requirement already satisfied: google-auth-oauthlib<0.5,>=0.4.1 in /usr/local/lib/python3.7/dist-packages (from tensorboard<2.9,>=2.8->tensorflow-gpu) (0.4.6)\n",
            "Requirement already satisfied: google-auth<3,>=1.6.3 in /usr/local/lib/python3.7/dist-packages (from tensorboard<2.9,>=2.8->tensorflow-gpu) (1.35.0)\n",
            "Requirement already satisfied: requests<3,>=2.21.0 in /usr/local/lib/python3.7/dist-packages (from tensorboard<2.9,>=2.8->tensorflow-gpu) (2.23.0)\n",
            "Requirement already satisfied: tensorboard-plugin-wit>=1.6.0 in /usr/local/lib/python3.7/dist-packages (from tensorboard<2.9,>=2.8->tensorflow-gpu) (1.8.1)\n",
            "Requirement already satisfied: werkzeug>=0.11.15 in /usr/local/lib/python3.7/dist-packages (from tensorboard<2.9,>=2.8->tensorflow-gpu) (1.0.1)\n",
            "Requirement already satisfied: rsa<5,>=3.1.4 in /usr/local/lib/python3.7/dist-packages (from google-auth<3,>=1.6.3->tensorboard<2.9,>=2.8->tensorflow-gpu) (4.8)\n",
            "Requirement already satisfied: cachetools<5.0,>=2.0.0 in /usr/local/lib/python3.7/dist-packages (from google-auth<3,>=1.6.3->tensorboard<2.9,>=2.8->tensorflow-gpu) (4.2.4)\n",
            "Requirement already satisfied: pyasn1-modules>=0.2.1 in /usr/local/lib/python3.7/dist-packages (from google-auth<3,>=1.6.3->tensorboard<2.9,>=2.8->tensorflow-gpu) (0.2.8)\n",
            "Requirement already satisfied: requests-oauthlib>=0.7.0 in /usr/local/lib/python3.7/dist-packages (from google-auth-oauthlib<0.5,>=0.4.1->tensorboard<2.9,>=2.8->tensorflow-gpu) (1.3.1)\n",
            "Requirement already satisfied: importlib-metadata>=4.4 in /usr/local/lib/python3.7/dist-packages (from markdown>=2.6.8->tensorboard<2.9,>=2.8->tensorflow-gpu) (4.11.3)\n",
            "Requirement already satisfied: zipp>=0.5 in /usr/local/lib/python3.7/dist-packages (from importlib-metadata>=4.4->markdown>=2.6.8->tensorboard<2.9,>=2.8->tensorflow-gpu) (3.8.0)\n",
            "Requirement already satisfied: pyasn1<0.5.0,>=0.4.6 in /usr/local/lib/python3.7/dist-packages (from pyasn1-modules>=0.2.1->google-auth<3,>=1.6.3->tensorboard<2.9,>=2.8->tensorflow-gpu) (0.4.8)\n",
            "Requirement already satisfied: certifi>=2017.4.17 in /usr/local/lib/python3.7/dist-packages (from requests<3,>=2.21.0->tensorboard<2.9,>=2.8->tensorflow-gpu) (2021.10.8)\n",
            "Requirement already satisfied: chardet<4,>=3.0.2 in /usr/local/lib/python3.7/dist-packages (from requests<3,>=2.21.0->tensorboard<2.9,>=2.8->tensorflow-gpu) (3.0.4)\n",
            "Requirement already satisfied: idna<3,>=2.5 in /usr/local/lib/python3.7/dist-packages (from requests<3,>=2.21.0->tensorboard<2.9,>=2.8->tensorflow-gpu) (2.10)\n",
            "Requirement already satisfied: urllib3!=1.25.0,!=1.25.1,<1.26,>=1.21.1 in /usr/local/lib/python3.7/dist-packages (from requests<3,>=2.21.0->tensorboard<2.9,>=2.8->tensorflow-gpu) (1.24.3)\n",
            "Requirement already satisfied: oauthlib>=3.0.0 in /usr/local/lib/python3.7/dist-packages (from requests-oauthlib>=0.7.0->google-auth-oauthlib<0.5,>=0.4.1->tensorboard<2.9,>=2.8->tensorflow-gpu) (3.2.0)\n",
            "Installing collected packages: tf-estimator-nightly, tensorflow-gpu\n",
            "Successfully installed tensorflow-gpu-2.8.0 tf-estimator-nightly-2.8.0.dev2021122109\n",
            "Requirement already satisfied: tensorflow-hub in /usr/local/lib/python3.7/dist-packages (0.12.0)\n",
            "Requirement already satisfied: numpy>=1.12.0 in /usr/local/lib/python3.7/dist-packages (from tensorflow-hub) (1.21.6)\n",
            "Requirement already satisfied: protobuf>=3.8.0 in /usr/local/lib/python3.7/dist-packages (from tensorflow-hub) (3.17.3)\n",
            "Requirement already satisfied: six>=1.9 in /usr/local/lib/python3.7/dist-packages (from protobuf>=3.8.0->tensorflow-hub) (1.15.0)\n",
            "Requirement already satisfied: seaborn in /usr/local/lib/python3.7/dist-packages (0.11.2)\n",
            "Requirement already satisfied: scipy>=1.0 in /usr/local/lib/python3.7/dist-packages (from seaborn) (1.4.1)\n",
            "Requirement already satisfied: numpy>=1.15 in /usr/local/lib/python3.7/dist-packages (from seaborn) (1.21.6)\n",
            "Requirement already satisfied: matplotlib>=2.2 in /usr/local/lib/python3.7/dist-packages (from seaborn) (3.2.2)\n",
            "Requirement already satisfied: pandas>=0.23 in /usr/local/lib/python3.7/dist-packages (from seaborn) (1.3.5)\n",
            "Requirement already satisfied: pyparsing!=2.0.4,!=2.1.2,!=2.1.6,>=2.0.1 in /usr/local/lib/python3.7/dist-packages (from matplotlib>=2.2->seaborn) (3.0.8)\n",
            "Requirement already satisfied: python-dateutil>=2.1 in /usr/local/lib/python3.7/dist-packages (from matplotlib>=2.2->seaborn) (2.8.2)\n",
            "Requirement already satisfied: cycler>=0.10 in /usr/local/lib/python3.7/dist-packages (from matplotlib>=2.2->seaborn) (0.11.0)\n",
            "Requirement already satisfied: kiwisolver>=1.0.1 in /usr/local/lib/python3.7/dist-packages (from matplotlib>=2.2->seaborn) (1.4.2)\n",
            "Requirement already satisfied: typing-extensions in /usr/local/lib/python3.7/dist-packages (from kiwisolver>=1.0.1->matplotlib>=2.2->seaborn) (4.1.1)\n",
            "Requirement already satisfied: pytz>=2017.3 in /usr/local/lib/python3.7/dist-packages (from pandas>=0.23->seaborn) (2022.1)\n",
            "Requirement already satisfied: six>=1.5 in /usr/local/lib/python3.7/dist-packages (from python-dateutil>=2.1->matplotlib>=2.2->seaborn) (1.15.0)\n"
          ]
        }
      ]
    },
    {
      "cell_type": "code",
      "source": [
        "import pandas as pd\n",
        "import numpy as np\n",
        "import re, string\n",
        "import os \n",
        "import tensorflow as tf\n",
        "import tensorflow_hub as hub\n",
        "import matplotlib.pyplot as plt\n",
        "import seaborn as sns\n",
        "from sklearn.metrics.pairwise import linear_kernel"
      ],
      "metadata": {
        "id": "B0l4emTnow23"
      },
      "execution_count": null,
      "outputs": []
    },
    {
      "cell_type": "code",
      "source": [
        "print(\"Version: \", tf.__version__)\n",
        "print(\"Eager mode: \", tf.executing_eagerly())\n",
        "print(\"Hub version: \", hub.__version__)\n",
        "print(\"GPU is\", \"available\" if tf.config.experimental.list_physical_devices(\"GPU\") else \"NOT AVAILABLE\")"
      ],
      "metadata": {
        "id": "gCvd6no3pHos",
        "colab": {
          "base_uri": "https://localhost:8080/"
        },
        "outputId": "86ef8662-d04a-48bf-aa6b-8f26601baab4"
      },
      "execution_count": null,
      "outputs": [
        {
          "output_type": "stream",
          "name": "stdout",
          "text": [
            "Version:  2.8.0\n",
            "Eager mode:  True\n",
            "Hub version:  0.12.0\n",
            "GPU is available\n"
          ]
        }
      ]
    },
    {
      "cell_type": "code",
      "source": [
        "# ! curl -L -o 4.tar.gz \"https://tfhub.dev/google/universal-sentence-encoder/4?tf-hub-format=compressed\"\n"
      ],
      "metadata": {
        "id": "N9plZD7QqV7j"
      },
      "execution_count": null,
      "outputs": []
    },
    {
      "cell_type": "code",
      "source": [
        "#!mkdir /home/zettadevs/GoogleUSE Model\n",
        "#! curl -L -o 4.tar.gz \"https://tfhub.dev/google/universal-sentence-encoder/4?tf-hub-format=compressed\" \n",
        "module_url = \"https://tfhub.dev/google/universal-sentence-encoder/4\"\n",
        "# module_path =\"/home/zettadevs/GoogleUSEModel/USE_4\"\n",
        "%time model = hub.load(module_url)\n",
        "#print (\"module %s loaded\" % module_url)\n",
        "\n",
        "#Create function for using modeltraining\n",
        "def embed(input):\n",
        "    return model(input)"
      ],
      "metadata": {
        "colab": {
          "base_uri": "https://localhost:8080/"
        },
        "id": "43SwkZG5pIaH",
        "outputId": "ad5fb767-4b61-4d20-bdc0-0fcb0e714ca7"
      },
      "execution_count": null,
      "outputs": [
        {
          "output_type": "stream",
          "name": "stdout",
          "text": [
            "CPU times: user 13.3 s, sys: 2.95 s, total: 16.2 s\n",
            "Wall time: 21.3 s\n"
          ]
        }
      ]
    },
    {
      "cell_type": "code",
      "source": [
        "# def plot_similarity(labels, features, rotation):\n",
        "#     corr = np.inner(features, features)\n",
        "#     sns.set(font_scale=1.2)\n",
        "#     g = sns.heatmap(\n",
        "#       corr,\n",
        "#       xticklabels=labels,\n",
        "#       yticklabels=labels,\n",
        "#       vmin=0,\n",
        "#       vmax=1,\n",
        "#       cmap=\"YlOrRd\")\n",
        "#     g.set_xticklabels(labels, rotation=rotation)\n",
        "#     g.set_title(\"Semantic Similarity\")"
      ],
      "metadata": {
        "id": "cnK5nwc2pgz3"
      },
      "execution_count": null,
      "outputs": []
    },
    {
      "cell_type": "code",
      "source": [
        "# def run_and_plot_U(messages_):\n",
        "#     message_embeddings_ = embed(messages_)\n",
        "#     plot_similarity(messages_, message_embeddings_, 90)"
      ],
      "metadata": {
        "id": "JuXeDlQtpoGr"
      },
      "execution_count": null,
      "outputs": []
    },
    {
      "cell_type": "code",
      "source": [
        "# def SimilarityScore(messages):\n",
        "#     message_embedding = embed(messages)\n",
        "#     corr = np.inner(message_embedding,message_embedding)\n",
        "#     #for i, message_embedding in enumerate(np.array(message_embeddings).tolist()):\n",
        "#     #    print(\"Message: {}\".format(messages[i]))\n",
        "#     print(corr)"
      ],
      "metadata": {
        "id": "sd08Dr-LppsE"
      },
      "execution_count": null,
      "outputs": []
    },
    {
      "cell_type": "code",
      "source": [
        "df_final = df_final[:7000]"
      ],
      "metadata": {
        "id": "Bj64T0gozt9k"
      },
      "execution_count": null,
      "outputs": []
    },
    {
      "cell_type": "code",
      "source": [
        "df_final.shape"
      ],
      "metadata": {
        "colab": {
          "base_uri": "https://localhost:8080/"
        },
        "id": "86UpAA1H0qLj",
        "outputId": "09655118-cf55-4386-e664-671333423414"
      },
      "execution_count": null,
      "outputs": [
        {
          "output_type": "execute_result",
          "data": {
            "text/plain": [
              "(7000, 2)"
            ]
          },
          "metadata": {},
          "execution_count": 35
        }
      ]
    },
    {
      "cell_type": "code",
      "source": [
        "ls =[]\n",
        "chunksize =500\n",
        "le =len(df_final.content)\n",
        "for i in range(0,le,chunksize):\n",
        "    if(i+chunksize > le): \n",
        "        chunksize= le;\n",
        "        ls.append(chunksize)\n",
        "    else:\n",
        "        a =i+chunksize\n",
        "        ls.append(a)\n",
        "ls\n",
        "j=0\n",
        "for i in ls:\n",
        "    directory = \"/content/drive/MyDrive/IR/MODEL/\" + str(i)\n",
        "    if not os.path.exists(directory):\n",
        "        os.makedirs(directory)\n",
        "    directory = \"/content/drive/MyDrive/IR/MODEL/\" + str(i)\n",
        "    print(j,i) \n",
        "    m=embed(df_final.content[j:i])\n",
        "    exported_m = tf.train.Checkpoint(v=tf.Variable(m))\n",
        "    exported_m.f = tf.function(\n",
        "    lambda  x: exported_m.v * x,\n",
        "    input_signature=[tf.TensorSpec(shape=None, dtype=tf.float32)])\n",
        "\n",
        "    tf.saved_model.save(exported_m,directory)\n",
        "    j = i\n",
        "    print(i)"
      ],
      "metadata": {
        "colab": {
          "base_uri": "https://localhost:8080/"
        },
        "id": "uTECM_yJpyyK",
        "outputId": "37648a9b-e148-49de-8557-0a2c3dc983ff"
      },
      "execution_count": null,
      "outputs": [
        {
          "output_type": "stream",
          "name": "stdout",
          "text": [
            "0 500\n",
            "INFO:tensorflow:Assets written to: /content/drive/MyDrive/IR/MODEL/500/assets\n"
          ]
        },
        {
          "output_type": "stream",
          "name": "stderr",
          "text": [
            "INFO:tensorflow:Assets written to: /content/drive/MyDrive/IR/MODEL/500/assets\n"
          ]
        },
        {
          "output_type": "stream",
          "name": "stdout",
          "text": [
            "500\n",
            "500 1000\n",
            "INFO:tensorflow:Assets written to: /content/drive/MyDrive/IR/MODEL/1000/assets\n"
          ]
        },
        {
          "output_type": "stream",
          "name": "stderr",
          "text": [
            "INFO:tensorflow:Assets written to: /content/drive/MyDrive/IR/MODEL/1000/assets\n"
          ]
        },
        {
          "output_type": "stream",
          "name": "stdout",
          "text": [
            "1000\n",
            "1000 1500\n",
            "INFO:tensorflow:Assets written to: /content/drive/MyDrive/IR/MODEL/1500/assets\n"
          ]
        },
        {
          "output_type": "stream",
          "name": "stderr",
          "text": [
            "INFO:tensorflow:Assets written to: /content/drive/MyDrive/IR/MODEL/1500/assets\n"
          ]
        },
        {
          "output_type": "stream",
          "name": "stdout",
          "text": [
            "1500\n",
            "1500 2000\n",
            "INFO:tensorflow:Assets written to: /content/drive/MyDrive/IR/MODEL/2000/assets\n"
          ]
        },
        {
          "output_type": "stream",
          "name": "stderr",
          "text": [
            "INFO:tensorflow:Assets written to: /content/drive/MyDrive/IR/MODEL/2000/assets\n"
          ]
        },
        {
          "output_type": "stream",
          "name": "stdout",
          "text": [
            "2000\n",
            "2000 2500\n",
            "INFO:tensorflow:Assets written to: /content/drive/MyDrive/IR/MODEL/2500/assets\n"
          ]
        },
        {
          "output_type": "stream",
          "name": "stderr",
          "text": [
            "INFO:tensorflow:Assets written to: /content/drive/MyDrive/IR/MODEL/2500/assets\n"
          ]
        },
        {
          "output_type": "stream",
          "name": "stdout",
          "text": [
            "2500\n",
            "2500 3000\n",
            "INFO:tensorflow:Assets written to: /content/drive/MyDrive/IR/MODEL/3000/assets\n"
          ]
        },
        {
          "output_type": "stream",
          "name": "stderr",
          "text": [
            "INFO:tensorflow:Assets written to: /content/drive/MyDrive/IR/MODEL/3000/assets\n"
          ]
        },
        {
          "output_type": "stream",
          "name": "stdout",
          "text": [
            "3000\n",
            "3000 3500\n",
            "INFO:tensorflow:Assets written to: /content/drive/MyDrive/IR/MODEL/3500/assets\n"
          ]
        },
        {
          "output_type": "stream",
          "name": "stderr",
          "text": [
            "INFO:tensorflow:Assets written to: /content/drive/MyDrive/IR/MODEL/3500/assets\n"
          ]
        },
        {
          "output_type": "stream",
          "name": "stdout",
          "text": [
            "3500\n",
            "3500 4000\n",
            "INFO:tensorflow:Assets written to: /content/drive/MyDrive/IR/MODEL/4000/assets\n"
          ]
        },
        {
          "output_type": "stream",
          "name": "stderr",
          "text": [
            "INFO:tensorflow:Assets written to: /content/drive/MyDrive/IR/MODEL/4000/assets\n"
          ]
        },
        {
          "output_type": "stream",
          "name": "stdout",
          "text": [
            "4000\n",
            "4000 4500\n",
            "INFO:tensorflow:Assets written to: /content/drive/MyDrive/IR/MODEL/4500/assets\n"
          ]
        },
        {
          "output_type": "stream",
          "name": "stderr",
          "text": [
            "INFO:tensorflow:Assets written to: /content/drive/MyDrive/IR/MODEL/4500/assets\n"
          ]
        },
        {
          "output_type": "stream",
          "name": "stdout",
          "text": [
            "4500\n",
            "4500 5000\n",
            "INFO:tensorflow:Assets written to: /content/drive/MyDrive/IR/MODEL/5000/assets\n"
          ]
        },
        {
          "output_type": "stream",
          "name": "stderr",
          "text": [
            "INFO:tensorflow:Assets written to: /content/drive/MyDrive/IR/MODEL/5000/assets\n"
          ]
        },
        {
          "output_type": "stream",
          "name": "stdout",
          "text": [
            "5000\n",
            "5000 5500\n",
            "INFO:tensorflow:Assets written to: /content/drive/MyDrive/IR/MODEL/5500/assets\n"
          ]
        },
        {
          "output_type": "stream",
          "name": "stderr",
          "text": [
            "INFO:tensorflow:Assets written to: /content/drive/MyDrive/IR/MODEL/5500/assets\n"
          ]
        },
        {
          "output_type": "stream",
          "name": "stdout",
          "text": [
            "5500\n",
            "5500 6000\n",
            "INFO:tensorflow:Assets written to: /content/drive/MyDrive/IR/MODEL/6000/assets\n"
          ]
        },
        {
          "output_type": "stream",
          "name": "stderr",
          "text": [
            "INFO:tensorflow:Assets written to: /content/drive/MyDrive/IR/MODEL/6000/assets\n"
          ]
        },
        {
          "output_type": "stream",
          "name": "stdout",
          "text": [
            "6000\n",
            "6000 6500\n",
            "INFO:tensorflow:Assets written to: /content/drive/MyDrive/IR/MODEL/6500/assets\n"
          ]
        },
        {
          "output_type": "stream",
          "name": "stderr",
          "text": [
            "INFO:tensorflow:Assets written to: /content/drive/MyDrive/IR/MODEL/6500/assets\n"
          ]
        },
        {
          "output_type": "stream",
          "name": "stdout",
          "text": [
            "6500\n",
            "6500 7000\n",
            "INFO:tensorflow:Assets written to: /content/drive/MyDrive/IR/MODEL/7000/assets\n"
          ]
        },
        {
          "output_type": "stream",
          "name": "stderr",
          "text": [
            "INFO:tensorflow:Assets written to: /content/drive/MyDrive/IR/MODEL/7000/assets\n"
          ]
        },
        {
          "output_type": "stream",
          "name": "stdout",
          "text": [
            "7000\n"
          ]
        }
      ]
    },
    {
      "cell_type": "code",
      "source": [
        "ar =[]\n",
        "for i in ls:\n",
        "    directory = \"/content/drive/MyDrive/IR/MODEL/\" + str(i)\n",
        "    if os.path.exists(directory):\n",
        "        print(directory)\n",
        "        imported_m = tf.saved_model.load(directory)\n",
        "        a= imported_m.v.numpy()\n",
        "        #print(a)\n",
        "        ar.append(f'load{i}')\n",
        "        exec(f'load{i} = a')  "
      ],
      "metadata": {
        "colab": {
          "base_uri": "https://localhost:8080/"
        },
        "id": "lL6CEXuSrTar",
        "outputId": "144ea6ba-1a5e-4262-f916-9106ce0e1f80"
      },
      "execution_count": null,
      "outputs": [
        {
          "output_type": "stream",
          "name": "stdout",
          "text": [
            "/content/drive/MyDrive/IR/MODEL/500\n",
            "/content/drive/MyDrive/IR/MODEL/1000\n",
            "/content/drive/MyDrive/IR/MODEL/1500\n",
            "/content/drive/MyDrive/IR/MODEL/2000\n",
            "/content/drive/MyDrive/IR/MODEL/2500\n",
            "/content/drive/MyDrive/IR/MODEL/3000\n",
            "/content/drive/MyDrive/IR/MODEL/3500\n",
            "/content/drive/MyDrive/IR/MODEL/4000\n",
            "/content/drive/MyDrive/IR/MODEL/4500\n",
            "/content/drive/MyDrive/IR/MODEL/5000\n",
            "/content/drive/MyDrive/IR/MODEL/5500\n",
            "/content/drive/MyDrive/IR/MODEL/6000\n",
            "/content/drive/MyDrive/IR/MODEL/6500\n",
            "/content/drive/MyDrive/IR/MODEL/7000\n"
          ]
        }
      ]
    },
    {
      "cell_type": "code",
      "source": [
        "lst = ['load500',\n",
        " 'load1000',\n",
        " 'load1500',\n",
        " 'load2000',\n",
        " 'load2500',\n",
        " 'load3000',\n",
        " 'load3500',\n",
        " 'load4000',\n",
        " 'load4500',\n",
        " 'load5000',\n",
        " 'load5500',\n",
        " 'load6000',\n",
        " 'load6500',\n",
        " 'load7000']\n",
        "#  'load7500',\n",
        "#   'load8000'\n",
        "#  'load8500',\n",
        "#  'load9000',\n",
        "#  'load9500',\n",
        "#  'load10000',\n",
        "#  'load10500',\n",
        "#  'load11000',\n",
        "#  'load11500',\n",
        "#  'load12000',\n",
        "#  'load12500',\n",
        "#  'load13000',\n",
        "#  'load13500',\n",
        "#  'load14000',\n",
        "#  'load14500',\n",
        "#  'load15000',\n",
        "#  'load15500',\n",
        "#  'load16000',\n",
        "#  'load16500',\n",
        "#  'load17000',\n",
        "#  'load17500',\n",
        "#  'load18000',\n",
        "#  'load18500',\n",
        "#  'load19000',\n",
        "#  'load19500',\n",
        "#  'load20000',\n",
        "#  'load20500',\n",
        "#  'load21000',\n",
        "#  'load21500',\n",
        "#  'load22000',\n",
        "#  'load22500',\n",
        "#  'load23000',\n",
        "#  'load23500',\n",
        "#  'load24000',\n",
        "#  'load24500',\n",
        "#  'load25000',\n",
        "#  'load25500',\n",
        "#  'load26000',\n",
        "#  'load26500',\n",
        "#  'load27000',\n",
        "#  'load27500',\n",
        "#  'load28000',\n",
        "#  'load28500',\n",
        "#  'load29000',\n",
        "#  'load29500',\n",
        "#  'load29661']"
      ],
      "metadata": {
        "id": "i-yH8EESvfL2"
      },
      "execution_count": null,
      "outputs": []
    },
    {
      "cell_type": "code",
      "source": [
        "for i in lst:\n",
        "  txt = i.replace(\"'\", \"\")\n",
        "  print(txt)\n",
        "\n",
        "# txt"
      ],
      "metadata": {
        "colab": {
          "base_uri": "https://localhost:8080/"
        },
        "id": "LpWHYxipvj8t",
        "outputId": "5e1aa8ca-dc88-400d-b89e-0413c9ae5e7f"
      },
      "execution_count": null,
      "outputs": [
        {
          "output_type": "stream",
          "name": "stdout",
          "text": [
            "load500\n",
            "load1000\n",
            "load1500\n",
            "load2000\n",
            "load2500\n",
            "load3000\n",
            "load3500\n",
            "load4000\n",
            "load4500\n",
            "load5000\n",
            "load5500\n",
            "load6000\n",
            "load6500\n",
            "load7000\n"
          ]
        }
      ]
    },
    {
      "cell_type": "code",
      "source": [
        "con_a =np.concatenate((load500, load1000, load1500,\n",
        "load2000,\n",
        "load2500,\n",
        "load3000,\n",
        "load3500,\n",
        "load4000,\n",
        "load4500,\n",
        "load5000,\n",
        "load5500,\n",
        "load6000,\n",
        "load6500,\n",
        "load7000))\n",
        "\n",
        "\n",
        "\n",
        "# load8500,\n",
        "# load9000,\n",
        "# load9500,\n",
        "# load10000,\n",
        "# load10500,\n",
        "# load11000,\n",
        "# load11500,\n",
        "# load12000,\n",
        "# load12500,\n",
        "# load13000,\n",
        "# load13500,\n",
        "# load14000,\n",
        "# load14500,\n",
        "# load15000,\n",
        "# load15500,\n",
        "# load16000,\n",
        "# load16500,\n",
        "# load17000,\n",
        "# load17500,\n",
        "# load18000,\n",
        "# load18500,\n",
        "# load19000,\n",
        "# load19500,\n",
        "# load20000,\n",
        "# load20500,\n",
        "# load21000,\n",
        "# load21500,\n",
        "# load22000,\n",
        "# load22500,\n",
        "# load23000,\n",
        "# load23500,\n",
        "# load24000,\n",
        "# load24500,\n",
        "# load25000,\n",
        "# load25500,\n",
        "# load26000,\n",
        "# load26500,\n",
        "# load27000,\n",
        "# load27500,\n",
        "# load28000,\n",
        "# load28500,\n",
        "# load29000,\n",
        "# load29500,\n",
        "# load29661\n",
        "con_a.shape"
      ],
      "metadata": {
        "colab": {
          "base_uri": "https://localhost:8080/"
        },
        "id": "r_FeKYappvK1",
        "outputId": "21277959-29a6-4f5a-b5d0-662c75f4d1dd"
      },
      "execution_count": null,
      "outputs": [
        {
          "output_type": "execute_result",
          "data": {
            "text/plain": [
              "(7000, 512)"
            ]
          },
          "metadata": {},
          "execution_count": 40
        }
      ]
    },
    {
      "cell_type": "code",
      "source": [
        "## training the model\n",
        "Model_USE= embed(df_final.content[:7000])"
      ],
      "metadata": {
        "id": "vERpmLsTt-rQ"
      },
      "execution_count": null,
      "outputs": []
    },
    {
      "cell_type": "code",
      "source": [
        "exported = tf.train.Checkpoint(v=tf.Variable(Model_USE))\n",
        "exported.f = tf.function(\n",
        "    lambda  x: exported.v * x,\n",
        "    input_signature=[tf.TensorSpec(shape=None, dtype=tf.float32)])\n",
        "\n",
        "tf.saved_model.save(exported,'/content/drive/MyDrive/IR/MODEL')"
      ],
      "metadata": {
        "colab": {
          "base_uri": "https://localhost:8080/"
        },
        "id": "TKCUrYkHuaQZ",
        "outputId": "cecc50a5-3837-400b-d23b-0015036a504d"
      },
      "execution_count": null,
      "outputs": [
        {
          "output_type": "stream",
          "name": "stdout",
          "text": [
            "INFO:tensorflow:Assets written to: /content/drive/MyDrive/IR/MODEL/assets\n"
          ]
        },
        {
          "output_type": "stream",
          "name": "stderr",
          "text": [
            "INFO:tensorflow:Assets written to: /content/drive/MyDrive/IR/MODEL/assets\n"
          ]
        }
      ]
    },
    {
      "cell_type": "code",
      "source": [
        "## Load Model\n",
        "imported = tf.saved_model.load('/content/drive/MyDrive/IR/MODEL/')\n",
        "loadedmodel =imported.v.numpy()\n",
        "loadedmodel.shape"
      ],
      "metadata": {
        "colab": {
          "base_uri": "https://localhost:8080/"
        },
        "id": "QW6615bBzu4E",
        "outputId": "00f08a85-a9c9-43bc-f0a7-012f7c485e47"
      },
      "execution_count": null,
      "outputs": [
        {
          "output_type": "execute_result",
          "data": {
            "text/plain": [
              "(7000, 512)"
            ]
          },
          "metadata": {},
          "execution_count": 43
        }
      ]
    },
    {
      "cell_type": "code",
      "source": [
        "def SearchDocument(query):\n",
        "    q =[query]\n",
        "    # embed the query for calcluating the similarity\n",
        "    Q_Train =embed(q)\n",
        "    # Calculate the Similarity\n",
        "    linear_similarities = linear_kernel(Q_Train, con_a).flatten() \n",
        "    #Sort top 10 index with similarity score\n",
        "    Top_index_doc = linear_similarities.argsort()[:-11:-1]\n",
        "    # sort by similarity score\n",
        "    linear_similarities.sort()\n",
        "    a = pd.DataFrame()\n",
        "    for i,index in enumerate(Top_index_doc):\n",
        "        a.loc[i,'index'] = str(index)\n",
        "        a.loc[i,'File_Name'] = df_final['title'][index] ## Read File name with index from File_data DF\n",
        "    for j,simScore in enumerate(linear_similarities[:-11:-1]):\n",
        "        a.loc[j,'Score'] = simScore\n",
        "    return a"
      ],
      "metadata": {
        "id": "YvsCbi5Xzyne"
      },
      "execution_count": null,
      "outputs": []
    },
    {
      "cell_type": "code",
      "source": [
        "SearchDocument('Trump')"
      ],
      "metadata": {
        "colab": {
          "base_uri": "https://localhost:8080/",
          "height": 363
        },
        "id": "hI2KNo0Ez7VW",
        "outputId": "205703d9-5f79-49de-e72b-dd3da3b34846"
      },
      "execution_count": null,
      "outputs": [
        {
          "output_type": "execute_result",
          "data": {
            "text/plain": [
              "  index                                          File_Name     Score\n",
              "0  3103  Donald Trump entertains idea he might not actu...  0.491851\n",
              "1  1210  Bill Kristol Whatever One Thinks About Donald ...  0.484306\n",
              "2   885  How Anti Trump Violence Could Elect Him The Da...  0.465091\n",
              "3  3328  When Donald Trump Lavished Praise on Hillary C...  0.464272\n",
              "4  4480   Trump Declines To Name Women He’d Put In His ...  0.459564\n",
              "5  1031  Cruz Voters Want a Real Conservative Not Trump...  0.457446\n",
              "6  1324    Donald Trump ’I Will Always Tell You the Truth’  0.447334\n",
              "7  2033  Scarborough Press Underestimating Trump Is Hel...  0.443826\n",
              "8   896  Peter King on Trump’s Carrier Deal ’There Is a...  0.443414\n",
              "9  3193                   Donald Trump faces a debate trap  0.441725"
            ],
            "text/html": [
              "\n",
              "  <div id=\"df-be708c5a-865b-411a-8152-cc952f4eaba9\">\n",
              "    <div class=\"colab-df-container\">\n",
              "      <div>\n",
              "<style scoped>\n",
              "    .dataframe tbody tr th:only-of-type {\n",
              "        vertical-align: middle;\n",
              "    }\n",
              "\n",
              "    .dataframe tbody tr th {\n",
              "        vertical-align: top;\n",
              "    }\n",
              "\n",
              "    .dataframe thead th {\n",
              "        text-align: right;\n",
              "    }\n",
              "</style>\n",
              "<table border=\"1\" class=\"dataframe\">\n",
              "  <thead>\n",
              "    <tr style=\"text-align: right;\">\n",
              "      <th></th>\n",
              "      <th>index</th>\n",
              "      <th>File_Name</th>\n",
              "      <th>Score</th>\n",
              "    </tr>\n",
              "  </thead>\n",
              "  <tbody>\n",
              "    <tr>\n",
              "      <th>0</th>\n",
              "      <td>3103</td>\n",
              "      <td>Donald Trump entertains idea he might not actu...</td>\n",
              "      <td>0.491851</td>\n",
              "    </tr>\n",
              "    <tr>\n",
              "      <th>1</th>\n",
              "      <td>1210</td>\n",
              "      <td>Bill Kristol Whatever One Thinks About Donald ...</td>\n",
              "      <td>0.484306</td>\n",
              "    </tr>\n",
              "    <tr>\n",
              "      <th>2</th>\n",
              "      <td>885</td>\n",
              "      <td>How Anti Trump Violence Could Elect Him The Da...</td>\n",
              "      <td>0.465091</td>\n",
              "    </tr>\n",
              "    <tr>\n",
              "      <th>3</th>\n",
              "      <td>3328</td>\n",
              "      <td>When Donald Trump Lavished Praise on Hillary C...</td>\n",
              "      <td>0.464272</td>\n",
              "    </tr>\n",
              "    <tr>\n",
              "      <th>4</th>\n",
              "      <td>4480</td>\n",
              "      <td>Trump Declines To Name Women He’d Put In His ...</td>\n",
              "      <td>0.459564</td>\n",
              "    </tr>\n",
              "    <tr>\n",
              "      <th>5</th>\n",
              "      <td>1031</td>\n",
              "      <td>Cruz Voters Want a Real Conservative Not Trump...</td>\n",
              "      <td>0.457446</td>\n",
              "    </tr>\n",
              "    <tr>\n",
              "      <th>6</th>\n",
              "      <td>1324</td>\n",
              "      <td>Donald Trump ’I Will Always Tell You the Truth’</td>\n",
              "      <td>0.447334</td>\n",
              "    </tr>\n",
              "    <tr>\n",
              "      <th>7</th>\n",
              "      <td>2033</td>\n",
              "      <td>Scarborough Press Underestimating Trump Is Hel...</td>\n",
              "      <td>0.443826</td>\n",
              "    </tr>\n",
              "    <tr>\n",
              "      <th>8</th>\n",
              "      <td>896</td>\n",
              "      <td>Peter King on Trump’s Carrier Deal ’There Is a...</td>\n",
              "      <td>0.443414</td>\n",
              "    </tr>\n",
              "    <tr>\n",
              "      <th>9</th>\n",
              "      <td>3193</td>\n",
              "      <td>Donald Trump faces a debate trap</td>\n",
              "      <td>0.441725</td>\n",
              "    </tr>\n",
              "  </tbody>\n",
              "</table>\n",
              "</div>\n",
              "      <button class=\"colab-df-convert\" onclick=\"convertToInteractive('df-be708c5a-865b-411a-8152-cc952f4eaba9')\"\n",
              "              title=\"Convert this dataframe to an interactive table.\"\n",
              "              style=\"display:none;\">\n",
              "        \n",
              "  <svg xmlns=\"http://www.w3.org/2000/svg\" height=\"24px\"viewBox=\"0 0 24 24\"\n",
              "       width=\"24px\">\n",
              "    <path d=\"M0 0h24v24H0V0z\" fill=\"none\"/>\n",
              "    <path d=\"M18.56 5.44l.94 2.06.94-2.06 2.06-.94-2.06-.94-.94-2.06-.94 2.06-2.06.94zm-11 1L8.5 8.5l.94-2.06 2.06-.94-2.06-.94L8.5 2.5l-.94 2.06-2.06.94zm10 10l.94 2.06.94-2.06 2.06-.94-2.06-.94-.94-2.06-.94 2.06-2.06.94z\"/><path d=\"M17.41 7.96l-1.37-1.37c-.4-.4-.92-.59-1.43-.59-.52 0-1.04.2-1.43.59L10.3 9.45l-7.72 7.72c-.78.78-.78 2.05 0 2.83L4 21.41c.39.39.9.59 1.41.59.51 0 1.02-.2 1.41-.59l7.78-7.78 2.81-2.81c.8-.78.8-2.07 0-2.86zM5.41 20L4 18.59l7.72-7.72 1.47 1.35L5.41 20z\"/>\n",
              "  </svg>\n",
              "      </button>\n",
              "      \n",
              "  <style>\n",
              "    .colab-df-container {\n",
              "      display:flex;\n",
              "      flex-wrap:wrap;\n",
              "      gap: 12px;\n",
              "    }\n",
              "\n",
              "    .colab-df-convert {\n",
              "      background-color: #E8F0FE;\n",
              "      border: none;\n",
              "      border-radius: 50%;\n",
              "      cursor: pointer;\n",
              "      display: none;\n",
              "      fill: #1967D2;\n",
              "      height: 32px;\n",
              "      padding: 0 0 0 0;\n",
              "      width: 32px;\n",
              "    }\n",
              "\n",
              "    .colab-df-convert:hover {\n",
              "      background-color: #E2EBFA;\n",
              "      box-shadow: 0px 1px 2px rgba(60, 64, 67, 0.3), 0px 1px 3px 1px rgba(60, 64, 67, 0.15);\n",
              "      fill: #174EA6;\n",
              "    }\n",
              "\n",
              "    [theme=dark] .colab-df-convert {\n",
              "      background-color: #3B4455;\n",
              "      fill: #D2E3FC;\n",
              "    }\n",
              "\n",
              "    [theme=dark] .colab-df-convert:hover {\n",
              "      background-color: #434B5C;\n",
              "      box-shadow: 0px 1px 3px 1px rgba(0, 0, 0, 0.15);\n",
              "      filter: drop-shadow(0px 1px 2px rgba(0, 0, 0, 0.3));\n",
              "      fill: #FFFFFF;\n",
              "    }\n",
              "  </style>\n",
              "\n",
              "      <script>\n",
              "        const buttonEl =\n",
              "          document.querySelector('#df-be708c5a-865b-411a-8152-cc952f4eaba9 button.colab-df-convert');\n",
              "        buttonEl.style.display =\n",
              "          google.colab.kernel.accessAllowed ? 'block' : 'none';\n",
              "\n",
              "        async function convertToInteractive(key) {\n",
              "          const element = document.querySelector('#df-be708c5a-865b-411a-8152-cc952f4eaba9');\n",
              "          const dataTable =\n",
              "            await google.colab.kernel.invokeFunction('convertToInteractive',\n",
              "                                                     [key], {});\n",
              "          if (!dataTable) return;\n",
              "\n",
              "          const docLinkHtml = 'Like what you see? Visit the ' +\n",
              "            '<a target=\"_blank\" href=https://colab.research.google.com/notebooks/data_table.ipynb>data table notebook</a>'\n",
              "            + ' to learn more about interactive tables.';\n",
              "          element.innerHTML = '';\n",
              "          dataTable['output_type'] = 'display_data';\n",
              "          await google.colab.output.renderOutput(dataTable, element);\n",
              "          const docLink = document.createElement('div');\n",
              "          docLink.innerHTML = docLinkHtml;\n",
              "          element.appendChild(docLink);\n",
              "        }\n",
              "      </script>\n",
              "    </div>\n",
              "  </div>\n",
              "  "
            ]
          },
          "metadata": {},
          "execution_count": 49
        }
      ]
    },
    {
      "cell_type": "code",
      "source": [
        "i = 1000\n",
        "\n",
        "f'load{i}'"
      ],
      "metadata": {
        "colab": {
          "base_uri": "https://localhost:8080/",
          "height": 35
        },
        "id": "uJFrYSDjsnGr",
        "outputId": "fdba43c8-9389-4273-eac7-e70d3c600e46"
      },
      "execution_count": null,
      "outputs": [
        {
          "output_type": "execute_result",
          "data": {
            "text/plain": [
              "'load1000'"
            ],
            "application/vnd.google.colaboratory.intrinsic+json": {
              "type": "string"
            }
          },
          "metadata": {},
          "execution_count": 46
        }
      ]
    }
  ]
}